{
 "cells": [
  {
   "cell_type": "markdown",
   "metadata": {
    "_cell_guid": "b1076dfc-b9ad-4769-8c92-a6c4dae69d19",
    "_uuid": "8f2839f25d086af736a60e9eeb907d3b93b6e0e5"
   },
   "source": [
    "<div style=\"position: relative; width: 100%; height: 300px; display: flex; justify-content: center; align-items: center;\">\n",
    "    <img src=\"https://miro.medium.com/v2/resize:fit:2000/1*iy12bH-FiUNOy9-0bULgSg.png\" style=\"position: absolute; top: 0; left: 0; width: 100%; height: 100%; z-index: 0; opacity: 0.8; border-radius: 37px\" >\n",
    "    <div style=\"font-size: 28px; border-radius: 10px; position: relative; z-index: 1; text-align: center; background-color: rgba(50, 50, 50, 0); color: rgb(129, 21, 28); display: flex; flex-direction: column; align-items: center; text-align: center; justify-content: center; width: 100%; margin: 10%; padding: 5px \">\n",
    "        <h1 style=\"text-align: center; width: 100%\" ><b>NLP Preprocessing with NLTK </b></h1>\n",
    "    </div>\n",
    "</div>"
   ]
  },
  {
   "cell_type": "markdown",
   "metadata": {},
   "source": [
    "# <h1 style=\"text-align: center; font-family: 'Roboto', sans-serif; color: rgb(165, 188, 230); background-color: rgba(130, 21, 128, 0.5); padding: 30px; border-style: solid; border-radius: 10px;\"> Imports & Load Data </h1>"
   ]
  },
  {
   "cell_type": "code",
   "execution_count": 1,
   "metadata": {
    "execution": {
     "iopub.execute_input": "2024-03-03T13:20:41.689143Z",
     "iopub.status.busy": "2024-03-03T13:20:41.688783Z",
     "iopub.status.idle": "2024-03-03T13:20:44.610713Z",
     "shell.execute_reply": "2024-03-03T13:20:44.609507Z",
     "shell.execute_reply.started": "2024-03-03T13:20:41.689115Z"
    }
   },
   "outputs": [],
   "source": [
    "import numpy as np\n",
    "import pandas as pd\n",
    "import matplotlib.pyplot as plt\n",
    "import seaborn as sns"
   ]
  },
  {
   "cell_type": "code",
   "execution_count": 22,
   "metadata": {
    "execution": {
     "iopub.execute_input": "2024-03-03T14:01:06.098744Z",
     "iopub.status.busy": "2024-03-03T14:01:06.097668Z",
     "iopub.status.idle": "2024-03-03T14:01:06.135355Z",
     "shell.execute_reply": "2024-03-03T14:01:06.133941Z",
     "shell.execute_reply.started": "2024-03-03T14:01:06.098694Z"
    }
   },
   "outputs": [],
   "source": [
    "import pprint"
   ]
  },
  {
   "cell_type": "code",
   "execution_count": 2,
   "metadata": {
    "execution": {
     "iopub.execute_input": "2024-03-03T13:21:48.050478Z",
     "iopub.status.busy": "2024-03-03T13:21:48.049908Z",
     "iopub.status.idle": "2024-03-03T13:21:48.094163Z",
     "shell.execute_reply": "2024-03-03T13:21:48.092673Z",
     "shell.execute_reply.started": "2024-03-03T13:21:48.050441Z"
    }
   },
   "outputs": [],
   "source": [
    "%load_ext autoreload\n",
    "%autoreload 2\n",
    "%matplotlib inline"
   ]
  },
  {
   "cell_type": "code",
   "execution_count": 10,
   "metadata": {
    "execution": {
     "iopub.execute_input": "2024-03-03T13:44:36.976896Z",
     "iopub.status.busy": "2024-03-03T13:44:36.976459Z",
     "iopub.status.idle": "2024-03-03T13:44:37.019652Z",
     "shell.execute_reply": "2024-03-03T13:44:37.017959Z",
     "shell.execute_reply.started": "2024-03-03T13:44:36.976867Z"
    }
   },
   "outputs": [],
   "source": [
    "sns.set()\n",
    "sns.set_palette('BuPu')\n",
    "SNS_CMAP = 'BuPu'\n",
    "\n",
    "colors = sns.palettes.color_palette(SNS_CMAP)"
   ]
  },
  {
   "cell_type": "code",
   "execution_count": 17,
   "metadata": {
    "execution": {
     "iopub.execute_input": "2024-03-03T13:57:25.362951Z",
     "iopub.status.busy": "2024-03-03T13:57:25.362488Z",
     "iopub.status.idle": "2024-03-03T13:57:25.399547Z",
     "shell.execute_reply": "2024-03-03T13:57:25.398226Z",
     "shell.execute_reply.started": "2024-03-03T13:57:25.362917Z"
    }
   },
   "outputs": [
    {
     "data": {
      "text/plain": [
       "(array([129.90588235,  21.47058824, 128.27058824]),\n",
       " array([165.19677047, 188.9230296 , 230.15763168]))"
      ]
     },
     "execution_count": 17,
     "metadata": {},
     "output_type": "execute_result"
    }
   ],
   "source": [
    "255*np.array(colors[5]), 280*np.array(colors[2])"
   ]
  },
  {
   "cell_type": "code",
   "execution_count": 8,
   "metadata": {
    "execution": {
     "iopub.execute_input": "2024-03-03T13:36:04.811436Z",
     "iopub.status.busy": "2024-03-03T13:36:04.811001Z",
     "iopub.status.idle": "2024-03-03T13:36:04.851943Z",
     "shell.execute_reply": "2024-03-03T13:36:04.850846Z",
     "shell.execute_reply.started": "2024-03-03T13:36:04.811390Z"
    }
   },
   "outputs": [],
   "source": [
    "path = '/kaggle/input/aassignment-7-txt/test.txt'\n",
    "with open(path, 'r') as f:\n",
    "    text = f.read()"
   ]
  },
  {
   "cell_type": "code",
   "execution_count": 9,
   "metadata": {
    "execution": {
     "iopub.execute_input": "2024-03-03T13:36:10.815040Z",
     "iopub.status.busy": "2024-03-03T13:36:10.814388Z",
     "iopub.status.idle": "2024-03-03T13:36:10.853516Z",
     "shell.execute_reply": "2024-03-03T13:36:10.852428Z",
     "shell.execute_reply.started": "2024-03-03T13:36:10.815008Z"
    }
   },
   "outputs": [
    {
     "data": {
      "text/plain": [
       "'Millions of people in India took part in an annual tree planting drive Sunday. More than 250 million saplings were planted in a single day across the country\\'s most-populous state.\\nThe campaign was led by Uttar Pradesh state government officials, lawmakers, and activists, in a bid to reduce carbon emissions and combat climate change.\\nWhere were the trees planted?\\nThe saplings were planted by volunteers in forests, farms, schools, and along riverbanks and highways.\\n\"We are committed to increasing the forest cover of Uttar Pradesh to over 15% of the total land area in the next five years,\\'\\' said state forest official Manoj Singh.\\nAccording to another government official, the forest cover of the state has increased over the last few years.\\n\"There has been an increase of 127 sqare kilometers [79 sqare miles] in the forest cover in Uttar Pradesh as compared to 2017,\" a state government spokesperson was quoted as saying in The Indian Express newspaper.\\n\"There has also been an increase in trees and plants. The tree cover has increased to 3.05%, as compared to the national average of 2.89%,\" the official said, citing the 2019 Forest Survey of India report.\\nHow many saplings survive?\\nUttar Pradesh State Forest Minister Dara Singh said the long-term survival of the saplings remains a concern, adding that usually only 60% of the saplings survive. The rest succumb to disease or lack of water.\\nHowever, he said that about 80% of the saplings planted in the last four annual drives have survived.\\n\"All the regions where plantation is being carried out have been geo-tagged so that we can ascertain what exactly happened,\" Chauhan told The Pioneer newspaper.\\n\"These saplings carry QR codes so that officials can maintain a record and verify whether the saplings survived or not. Besides, teams have been formed to monitor progress of the plantation drive,\" he said.\\nWhat is the extent of India\\'s tree planting project?\\nIndia has vowed to have a third of its total land area, or 95 million hectares, under forest and tree cover by 2030.\\nThe government has allocated $6.2 billion (€5.2 billion) for the tree-planting across the country.\\nHowever, industrial development and a rapidly growing population has put further stress on the land.\\n\\n'"
      ]
     },
     "execution_count": 9,
     "metadata": {},
     "output_type": "execute_result"
    }
   ],
   "source": [
    "text"
   ]
  },
  {
   "cell_type": "markdown",
   "metadata": {},
   "source": [
    "# <h1 style=\"text-align: center; font-family: 'Roboto', sans-serif; color: rgb(165, 188, 230); background-color: rgba(130, 21, 128, 0.5); padding: 30px; border-style: solid; border-radius: 10px;\"> Tokenisation </h1>"
   ]
  },
  {
   "cell_type": "code",
   "execution_count": 19,
   "metadata": {
    "execution": {
     "iopub.execute_input": "2024-03-03T14:00:22.393419Z",
     "iopub.status.busy": "2024-03-03T14:00:22.393026Z",
     "iopub.status.idle": "2024-03-03T14:00:22.637002Z",
     "shell.execute_reply": "2024-03-03T14:00:22.635694Z",
     "shell.execute_reply.started": "2024-03-03T14:00:22.393390Z"
    }
   },
   "outputs": [
    {
     "name": "stdout",
     "output_type": "stream",
     "text": [
      "[nltk_data] Downloading package punkt to /usr/share/nltk_data...\n",
      "[nltk_data]   Package punkt is already up-to-date!\n"
     ]
    }
   ],
   "source": [
    "import nltk\n",
    "from nltk.tokenize import word_tokenize\n",
    "nltk.download('punkt')\n",
    "\n",
    "tokens = word_tokenize(text)"
   ]
  },
  {
   "cell_type": "code",
   "execution_count": 25,
   "metadata": {
    "execution": {
     "iopub.execute_input": "2024-03-03T14:01:26.361341Z",
     "iopub.status.busy": "2024-03-03T14:01:26.360875Z",
     "iopub.status.idle": "2024-03-03T14:01:26.400908Z",
     "shell.execute_reply": "2024-03-03T14:01:26.400062Z",
     "shell.execute_reply.started": "2024-03-03T14:01:26.361311Z"
    }
   },
   "outputs": [
    {
     "name": "stdout",
     "output_type": "stream",
     "text": [
      "['Millions', 'of', 'people', 'in', 'India', 'took', 'part', 'in', 'an', 'annual']\n"
     ]
    }
   ],
   "source": [
    "print(tokens[:10])"
   ]
  },
  {
   "cell_type": "code",
   "execution_count": 31,
   "metadata": {
    "execution": {
     "iopub.execute_input": "2024-03-03T14:09:32.343011Z",
     "iopub.status.busy": "2024-03-03T14:09:32.342553Z",
     "iopub.status.idle": "2024-03-03T14:09:32.383280Z",
     "shell.execute_reply": "2024-03-03T14:09:32.382314Z",
     "shell.execute_reply.started": "2024-03-03T14:09:32.342980Z"
    }
   },
   "outputs": [
    {
     "name": "stdout",
     "output_type": "stream",
     "text": [
      "Number of Intervals: 355\n",
      "Number of Tokens: 434\n"
     ]
    }
   ],
   "source": [
    "print(f\"Number of Intervals: {len(text.split(' '))}\")\n",
    "print(f'Number of Tokens: {len(tokens)}')"
   ]
  },
  {
   "cell_type": "markdown",
   "metadata": {
    "execution": {
     "iopub.execute_input": "2024-03-03T14:07:35.255201Z",
     "iopub.status.busy": "2024-03-03T14:07:35.254787Z",
     "iopub.status.idle": "2024-03-03T14:07:35.296143Z",
     "shell.execute_reply": "2024-03-03T14:07:35.294540Z",
     "shell.execute_reply.started": "2024-03-03T14:07:35.255172Z"
    }
   },
   "source": [
    "### <h3 style=\"text-align: center; font-family: 'Roboto', sans-serif; color: rgba(150, 174, 209, 0.8); background-color: rgba(230, 131, 131, 0.3); padding: 10px; border-style: solid; border-radius: 10px;\"> Sentence Tokenisation </h3>"
   ]
  },
  {
   "cell_type": "code",
   "execution_count": 35,
   "metadata": {
    "execution": {
     "iopub.execute_input": "2024-03-03T14:10:34.655339Z",
     "iopub.status.busy": "2024-03-03T14:10:34.654903Z",
     "iopub.status.idle": "2024-03-03T14:10:34.696122Z",
     "shell.execute_reply": "2024-03-03T14:10:34.694713Z",
     "shell.execute_reply.started": "2024-03-03T14:10:34.655309Z"
    }
   },
   "outputs": [
    {
     "name": "stdout",
     "output_type": "stream",
     "text": [
      "Number of Sentences: 21\n",
      "Number of Periods: 355\n"
     ]
    }
   ],
   "source": [
    "sentences = nltk.tokenize.sent_tokenize(text)\n",
    "print(f'Number of Sentences: {len(sentences)}')\n",
    "print(f\"Number of Periods: {len(text.split(' '))}\")"
   ]
  },
  {
   "cell_type": "code",
   "execution_count": 36,
   "metadata": {
    "execution": {
     "iopub.execute_input": "2024-03-03T14:10:38.773682Z",
     "iopub.status.busy": "2024-03-03T14:10:38.773309Z",
     "iopub.status.idle": "2024-03-03T14:10:38.812187Z",
     "shell.execute_reply": "2024-03-03T14:10:38.810901Z",
     "shell.execute_reply.started": "2024-03-03T14:10:38.773654Z"
    }
   },
   "outputs": [
    {
     "name": "stdout",
     "output_type": "stream",
     "text": [
      "['Millions of people in India took part in an annual tree planting drive Sunday.', \"More than 250 million saplings were planted in a single day across the country's most-populous state.\", 'The campaign was led by Uttar Pradesh state government officials, lawmakers, and activists, in a bid to reduce carbon emissions and combat climate change.', 'Where were the trees planted?', 'The saplings were planted by volunteers in forests, farms, schools, and along riverbanks and highways.']\n"
     ]
    }
   ],
   "source": [
    "print(sentences[:5])"
   ]
  },
  {
   "cell_type": "markdown",
   "metadata": {},
   "source": [
    "# <h1 style=\"text-align: center; font-family: 'Roboto', sans-serif; color: rgb(165, 188, 230); background-color: rgba(130, 21, 128, 0.5); padding: 30px; border-style: solid; border-radius: 10px;\"> Stop Words Detection </h1>"
   ]
  },
  {
   "cell_type": "code",
   "execution_count": 37,
   "metadata": {
    "execution": {
     "iopub.execute_input": "2024-03-03T14:14:01.551865Z",
     "iopub.status.busy": "2024-03-03T14:14:01.551417Z",
     "iopub.status.idle": "2024-03-03T14:14:01.599000Z",
     "shell.execute_reply": "2024-03-03T14:14:01.597541Z",
     "shell.execute_reply.started": "2024-03-03T14:14:01.551833Z"
    }
   },
   "outputs": [
    {
     "name": "stdout",
     "output_type": "stream",
     "text": [
      "[nltk_data] Downloading package stopwords to /usr/share/nltk_data...\n",
      "[nltk_data]   Package stopwords is already up-to-date!\n"
     ]
    },
    {
     "data": {
      "text/plain": [
       "True"
      ]
     },
     "execution_count": 37,
     "metadata": {},
     "output_type": "execute_result"
    }
   ],
   "source": [
    "from nltk.corpus import stopwords\n",
    "nltk.download('stopwords')"
   ]
  },
  {
   "cell_type": "code",
   "execution_count": 39,
   "metadata": {
    "execution": {
     "iopub.execute_input": "2024-03-03T14:14:23.171711Z",
     "iopub.status.busy": "2024-03-03T14:14:23.171331Z",
     "iopub.status.idle": "2024-03-03T14:14:23.210120Z",
     "shell.execute_reply": "2024-03-03T14:14:23.209094Z",
     "shell.execute_reply.started": "2024-03-03T14:14:23.171682Z"
    }
   },
   "outputs": [],
   "source": [
    "stop_words = set(stopwords.words('english'))\n",
    "filtered_tokens = [word for word in tokens if word.lower() not in stop_words]"
   ]
  },
  {
   "cell_type": "code",
   "execution_count": 42,
   "metadata": {
    "execution": {
     "iopub.execute_input": "2024-03-03T14:15:27.164757Z",
     "iopub.status.busy": "2024-03-03T14:15:27.164208Z",
     "iopub.status.idle": "2024-03-03T14:15:27.204252Z",
     "shell.execute_reply": "2024-03-03T14:15:27.202864Z",
     "shell.execute_reply.started": "2024-03-03T14:15:27.164700Z"
    }
   },
   "outputs": [
    {
     "name": "stdout",
     "output_type": "stream",
     "text": [
      "Number of Tokens: 434\n",
      "Number of Filtered Tokens: 282\n",
      "['Millions', 'people', 'India', 'took', 'part']\n"
     ]
    }
   ],
   "source": [
    "print(f'Number of Tokens: {len(tokens)}')\n",
    "print(f'Number of Filtered Tokens: {len(filtered_tokens)}')\n",
    "print(filtered_tokens[:5])"
   ]
  },
  {
   "cell_type": "markdown",
   "metadata": {},
   "source": [
    "# <h1 style=\"text-align: center; font-family: 'Roboto', sans-serif; color: rgb(165, 188, 230); background-color: rgba(130, 21, 128, 0.5); padding: 30px; border-style: solid; border-radius: 10px;\"> Stemming / Lemmatization </h1>"
   ]
  },
  {
   "cell_type": "markdown",
   "metadata": {},
   "source": [
    "### <h3 style=\"text-align: center; font-family: 'Roboto', sans-serif; color: rgba(150, 174, 209, 0.8); background-color: rgba(230, 131, 131, 0.3); padding: 10px; border-style: solid; border-radius: 10px;\"> Stemming </h3>"
   ]
  },
  {
   "cell_type": "code",
   "execution_count": 43,
   "metadata": {
    "execution": {
     "iopub.execute_input": "2024-03-03T14:17:23.625493Z",
     "iopub.status.busy": "2024-03-03T14:17:23.625020Z",
     "iopub.status.idle": "2024-03-03T14:17:23.679378Z",
     "shell.execute_reply": "2024-03-03T14:17:23.678172Z",
     "shell.execute_reply.started": "2024-03-03T14:17:23.625439Z"
    }
   },
   "outputs": [],
   "source": [
    "from nltk.stem import PorterStemmer\n",
    "stemmer = PorterStemmer()\n",
    "stemmed_tokens = [stemmer.stem(word) for word in tokens]"
   ]
  },
  {
   "cell_type": "code",
   "execution_count": 44,
   "metadata": {
    "execution": {
     "iopub.execute_input": "2024-03-03T14:17:58.173803Z",
     "iopub.status.busy": "2024-03-03T14:17:58.173402Z",
     "iopub.status.idle": "2024-03-03T14:17:58.212396Z",
     "shell.execute_reply": "2024-03-03T14:17:58.211129Z",
     "shell.execute_reply.started": "2024-03-03T14:17:58.173768Z"
    }
   },
   "outputs": [
    {
     "name": "stdout",
     "output_type": "stream",
     "text": [
      "['Millions', 'of', 'people', 'in', 'India', 'took', 'part', 'in', 'an', 'annual', 'tree', 'planting', 'drive', 'Sunday', '.', 'More', 'than', '250', 'million', 'saplings']\n",
      "['million', 'of', 'peopl', 'in', 'india', 'took', 'part', 'in', 'an', 'annual', 'tree', 'plant', 'drive', 'sunday', '.', 'more', 'than', '250', 'million', 'sapl']\n"
     ]
    }
   ],
   "source": [
    "print(tokens[:20])\n",
    "print(stemmed_tokens[:20])"
   ]
  },
  {
   "cell_type": "markdown",
   "metadata": {},
   "source": [
    "### <h3 style=\"text-align: center; font-family: 'Roboto', sans-serif; color: rgba(150, 174, 209, 0.8); background-color: rgba(230, 131, 131, 0.3); padding: 10px; border-style: solid; border-radius: 10px;\"> Lemmatization </h3>"
   ]
  },
  {
   "cell_type": "code",
   "execution_count": 55,
   "metadata": {
    "execution": {
     "iopub.execute_input": "2024-03-03T14:24:51.867828Z",
     "iopub.status.busy": "2024-03-03T14:24:51.867224Z",
     "iopub.status.idle": "2024-03-03T14:24:53.359321Z",
     "shell.execute_reply": "2024-03-03T14:24:53.358070Z",
     "shell.execute_reply.started": "2024-03-03T14:24:51.867795Z"
    }
   },
   "outputs": [],
   "source": [
    "import spacy\n",
    "nlp = spacy.load(\"en_core_web_sm\")"
   ]
  },
  {
   "cell_type": "code",
   "execution_count": 57,
   "metadata": {
    "execution": {
     "iopub.execute_input": "2024-03-03T14:25:27.392765Z",
     "iopub.status.busy": "2024-03-03T14:25:27.392024Z",
     "iopub.status.idle": "2024-03-03T14:25:27.581041Z",
     "shell.execute_reply": "2024-03-03T14:25:27.579902Z",
     "shell.execute_reply.started": "2024-03-03T14:25:27.392704Z"
    }
   },
   "outputs": [],
   "source": [
    "lemmatized_text = [token.lemma_ for token in nlp(\" \".join(tokens))]"
   ]
  },
  {
   "cell_type": "code",
   "execution_count": 58,
   "metadata": {
    "execution": {
     "iopub.execute_input": "2024-03-03T14:25:32.023165Z",
     "iopub.status.busy": "2024-03-03T14:25:32.022707Z",
     "iopub.status.idle": "2024-03-03T14:25:32.087900Z",
     "shell.execute_reply": "2024-03-03T14:25:32.086747Z",
     "shell.execute_reply.started": "2024-03-03T14:25:32.023133Z"
    }
   },
   "outputs": [
    {
     "data": {
      "text/plain": [
       "['million', 'of', 'people', 'in', 'India', 'take', 'part', 'in', 'an', 'annual', 'tree', 'planting', 'drive', 'Sunday', '.', 'More', 'than', '250', 'million', 'sapling', 'be', 'plant', 'in', 'a', 'single', 'day', 'across', 'the', 'country', \"'s\", 'most', '-', 'populous', 'state', '.', 'the', 'campaign', 'be', 'lead', 'by', 'Uttar', 'Pradesh', 'state', 'government', 'official', ',', 'lawmaker', ',', 'and', 'activist', ',', 'in', 'a', 'bid', 'to', 'reduce', 'carbon', 'emission', 'and', 'combat', 'climate', 'change', '.', 'where', 'be', 'the', 'tree', 'plant', '?', 'the', 'sapling', 'be', 'plant', 'by', 'volunteer', 'in', 'forest', ',', 'farm', ',', 'school', ',', 'and', 'along', 'riverbank', 'and', 'highway', '.', '`', '`', 'we', 'be', 'committed', 'to', 'increase', 'the', 'forest', 'cover', 'of', 'Uttar', 'Pradesh', 'to', 'over', '15', '%', 'of', 'the', 'total', 'land', 'area', 'in', 'the', 'next', 'five', 'year', ',', \"''\", 'say', 'state', 'forest', 'official', 'Manoj', 'Singh', '.', 'accord', 'to', 'another', 'government', 'official', ',', 'the', 'forest', 'cover', 'of', 'the', 'state', 'have', 'increase', 'over', 'the', 'last', 'few', 'year', '.', '`', '`', 'there', 'have', 'be', 'an', 'increase', 'of', '127', 'sqare', 'kilometer', '[', '79', 'sqare', 'mile', ']', 'in', 'the', 'forest', 'cover', 'in', 'Uttar', 'Pradesh', 'as', 'compare', 'to', '2017', ',', \"''\", 'a', 'state', 'government', 'spokesperson', 'be', 'quote', 'as', 'say', 'in', 'the', 'Indian', 'Express', 'newspaper', '.', '`', '`', 'there', 'have', 'also', 'be', 'an', 'increase', 'in', 'tree', 'and', 'plant', '.', 'the', 'tree', 'cover', 'have', 'increase', 'to', '3.05', '%', ',', 'as', 'compare', 'to', 'the', 'national', 'average', 'of', '2.89', '%', ',', \"''\", 'the', 'official', 'say', ',', 'cite', 'the', '2019', 'Forest', 'Survey', 'of', 'India', 'report', '.', 'how', 'many', 'sapling', 'survive', '?', 'Uttar', 'Pradesh', 'State', 'Forest', 'Minister', 'Dara', 'Singh', 'say', 'the', 'long', '-', 'term', 'survival', 'of', 'the', 'sapling', 'remain', 'a', 'concern', ',', 'add', 'that', 'usually', 'only', '60', '%', 'of', 'the', 'sapling', 'survive', '.', 'the', 'rest', 'succumb', 'to', 'disease', 'or', 'lack', 'of', 'water', '.', 'however', ',', 'he', 'say', 'that', 'about', '80', '%', 'of', 'the', 'sapling', 'plant', 'in', 'the', 'last', 'four', 'annual', 'drive', 'have', 'survive', '.', '`', '`', 'all', 'the', 'region', 'where', 'plantation', 'be', 'be', 'carry', 'out', 'have', 'be', 'geo', '-', 'tag', 'so', 'that', 'we', 'can', 'ascertain', 'what', 'exactly', 'happen', ',', \"''\", 'Chauhan', 'tell', 'the', 'Pioneer', 'newspaper', '.', '`', '`', 'these', 'sapling', 'carry', 'qr', 'code', 'so', 'that', 'official', 'can', 'maintain', 'a', 'record', 'and', 'verify', 'whether', 'the', 'sapling', 'survive', 'or', 'not', '.', 'besides', ',', 'team', 'have', 'be', 'form', 'to', 'monitor', 'progress', 'of', 'the', 'plantation', 'drive', ',', \"''\", 'he', 'say', '.', 'what', 'be', 'the', 'extent', 'of', 'India', \"'s\", 'tree', 'planting', 'project', '?', 'India', 'have', 'vow', 'to', 'have', 'a', 'third', 'of', 'its', 'total', 'land', 'area', ',', 'or', '95', 'million', 'hectare', ',', 'under', 'forest', 'and', 'tree', 'cover', 'by', '2030', '.', 'the', 'government', 'have', 'allocate', '$', '6.2', 'billion', '(', '€', '5.2', 'billion', ')', 'for', 'the', 'tree', '-', 'planting', 'across', 'the', 'country', '.', 'however', ',', 'industrial', 'development', 'and', 'a', 'rapidly', 'grow', 'population', 'have', 'put', 'further', 'stress', 'on', 'the', 'land', '.']"
      ]
     },
     "execution_count": 58,
     "metadata": {},
     "output_type": "execute_result"
    }
   ],
   "source": [
    "lemmatized_text"
   ]
  },
  {
   "cell_type": "code",
   "execution_count": 59,
   "metadata": {
    "execution": {
     "iopub.execute_input": "2024-03-03T14:25:40.779477Z",
     "iopub.status.busy": "2024-03-03T14:25:40.776478Z",
     "iopub.status.idle": "2024-03-03T14:25:40.843553Z",
     "shell.execute_reply": "2024-03-03T14:25:40.842531Z",
     "shell.execute_reply.started": "2024-03-03T14:25:40.779441Z"
    }
   },
   "outputs": [
    {
     "data": {
      "text/plain": [
       "['Millions', 'of', 'people', 'in', 'India', 'took', 'part', 'in', 'an', 'annual', 'tree', 'planting', 'drive', 'Sunday', '.', 'More', 'than', '250', 'million', 'saplings', 'were', 'planted', 'in', 'a', 'single', 'day', 'across', 'the', 'country', \"'s\", 'most-populous', 'state', '.', 'The', 'campaign', 'was', 'led', 'by', 'Uttar', 'Pradesh', 'state', 'government', 'officials', ',', 'lawmakers', ',', 'and', 'activists', ',', 'in', 'a', 'bid', 'to', 'reduce', 'carbon', 'emissions', 'and', 'combat', 'climate', 'change', '.', 'Where', 'were', 'the', 'trees', 'planted', '?', 'The', 'saplings', 'were', 'planted', 'by', 'volunteers', 'in', 'forests', ',', 'farms', ',', 'schools', ',', 'and', 'along', 'riverbanks', 'and', 'highways', '.', '``', 'We', 'are', 'committed', 'to', 'increasing', 'the', 'forest', 'cover', 'of', 'Uttar', 'Pradesh', 'to', 'over', '15', '%', 'of', 'the', 'total', 'land', 'area', 'in', 'the', 'next', 'five', 'years', ',', \"''\", 'said', 'state', 'forest', 'official', 'Manoj', 'Singh', '.', 'According', 'to', 'another', 'government', 'official', ',', 'the', 'forest', 'cover', 'of', 'the', 'state', 'has', 'increased', 'over', 'the', 'last', 'few', 'years', '.', '``', 'There', 'has', 'been', 'an', 'increase', 'of', '127', 'sqare', 'kilometers', '[', '79', 'sqare', 'miles', ']', 'in', 'the', 'forest', 'cover', 'in', 'Uttar', 'Pradesh', 'as', 'compared', 'to', '2017', ',', \"''\", 'a', 'state', 'government', 'spokesperson', 'was', 'quoted', 'as', 'saying', 'in', 'The', 'Indian', 'Express', 'newspaper', '.', '``', 'There', 'has', 'also', 'been', 'an', 'increase', 'in', 'trees', 'and', 'plants', '.', 'The', 'tree', 'cover', 'has', 'increased', 'to', '3.05', '%', ',', 'as', 'compared', 'to', 'the', 'national', 'average', 'of', '2.89', '%', ',', \"''\", 'the', 'official', 'said', ',', 'citing', 'the', '2019', 'Forest', 'Survey', 'of', 'India', 'report', '.', 'How', 'many', 'saplings', 'survive', '?', 'Uttar', 'Pradesh', 'State', 'Forest', 'Minister', 'Dara', 'Singh', 'said', 'the', 'long-term', 'survival', 'of', 'the', 'saplings', 'remains', 'a', 'concern', ',', 'adding', 'that', 'usually', 'only', '60', '%', 'of', 'the', 'saplings', 'survive', '.', 'The', 'rest', 'succumb', 'to', 'disease', 'or', 'lack', 'of', 'water', '.', 'However', ',', 'he', 'said', 'that', 'about', '80', '%', 'of', 'the', 'saplings', 'planted', 'in', 'the', 'last', 'four', 'annual', 'drives', 'have', 'survived', '.', '``', 'All', 'the', 'regions', 'where', 'plantation', 'is', 'being', 'carried', 'out', 'have', 'been', 'geo-tagged', 'so', 'that', 'we', 'can', 'ascertain', 'what', 'exactly', 'happened', ',', \"''\", 'Chauhan', 'told', 'The', 'Pioneer', 'newspaper', '.', '``', 'These', 'saplings', 'carry', 'QR', 'codes', 'so', 'that', 'officials', 'can', 'maintain', 'a', 'record', 'and', 'verify', 'whether', 'the', 'saplings', 'survived', 'or', 'not', '.', 'Besides', ',', 'teams', 'have', 'been', 'formed', 'to', 'monitor', 'progress', 'of', 'the', 'plantation', 'drive', ',', \"''\", 'he', 'said', '.', 'What', 'is', 'the', 'extent', 'of', 'India', \"'s\", 'tree', 'planting', 'project', '?', 'India', 'has', 'vowed', 'to', 'have', 'a', 'third', 'of', 'its', 'total', 'land', 'area', ',', 'or', '95', 'million', 'hectares', ',', 'under', 'forest', 'and', 'tree', 'cover', 'by', '2030', '.', 'The', 'government', 'has', 'allocated', '$', '6.2', 'billion', '(', '€5.2', 'billion', ')', 'for', 'the', 'tree-planting', 'across', 'the', 'country', '.', 'However', ',', 'industrial', 'development', 'and', 'a', 'rapidly', 'growing', 'population', 'has', 'put', 'further', 'stress', 'on', 'the', 'land', '.']"
      ]
     },
     "execution_count": 59,
     "metadata": {},
     "output_type": "execute_result"
    }
   ],
   "source": [
    "tokens"
   ]
  },
  {
   "cell_type": "markdown",
   "metadata": {},
   "source": [
    "# <h1 style=\"text-align: center; font-family: 'Roboto', sans-serif; color: rgb(165, 188, 230); background-color: rgba(130, 21, 128, 0.5); padding: 30px; border-style: solid; border-radius: 10px;\"> TF-IDFVectorizer </h1>"
   ]
  },
  {
   "cell_type": "code",
   "execution_count": 60,
   "metadata": {
    "execution": {
     "iopub.execute_input": "2024-03-03T14:37:20.558862Z",
     "iopub.status.busy": "2024-03-03T14:37:20.558355Z",
     "iopub.status.idle": "2024-03-03T14:37:20.622753Z",
     "shell.execute_reply": "2024-03-03T14:37:20.621757Z",
     "shell.execute_reply.started": "2024-03-03T14:37:20.558826Z"
    }
   },
   "outputs": [],
   "source": [
    "from sklearn.feature_extraction.text import TfidfVectorizer"
   ]
  },
  {
   "cell_type": "code",
   "execution_count": 62,
   "metadata": {
    "execution": {
     "iopub.execute_input": "2024-03-03T14:39:21.679813Z",
     "iopub.status.busy": "2024-03-03T14:39:21.679365Z",
     "iopub.status.idle": "2024-03-03T14:39:21.758433Z",
     "shell.execute_reply": "2024-03-03T14:39:21.757487Z",
     "shell.execute_reply.started": "2024-03-03T14:39:21.679781Z"
    }
   },
   "outputs": [
    {
     "data": {
      "text/html": [
       "<style>#sk-container-id-1 {color: black;background-color: white;}#sk-container-id-1 pre{padding: 0;}#sk-container-id-1 div.sk-toggleable {background-color: white;}#sk-container-id-1 label.sk-toggleable__label {cursor: pointer;display: block;width: 100%;margin-bottom: 0;padding: 0.3em;box-sizing: border-box;text-align: center;}#sk-container-id-1 label.sk-toggleable__label-arrow:before {content: \"▸\";float: left;margin-right: 0.25em;color: #696969;}#sk-container-id-1 label.sk-toggleable__label-arrow:hover:before {color: black;}#sk-container-id-1 div.sk-estimator:hover label.sk-toggleable__label-arrow:before {color: black;}#sk-container-id-1 div.sk-toggleable__content {max-height: 0;max-width: 0;overflow: hidden;text-align: left;background-color: #f0f8ff;}#sk-container-id-1 div.sk-toggleable__content pre {margin: 0.2em;color: black;border-radius: 0.25em;background-color: #f0f8ff;}#sk-container-id-1 input.sk-toggleable__control:checked~div.sk-toggleable__content {max-height: 200px;max-width: 100%;overflow: auto;}#sk-container-id-1 input.sk-toggleable__control:checked~label.sk-toggleable__label-arrow:before {content: \"▾\";}#sk-container-id-1 div.sk-estimator input.sk-toggleable__control:checked~label.sk-toggleable__label {background-color: #d4ebff;}#sk-container-id-1 div.sk-label input.sk-toggleable__control:checked~label.sk-toggleable__label {background-color: #d4ebff;}#sk-container-id-1 input.sk-hidden--visually {border: 0;clip: rect(1px 1px 1px 1px);clip: rect(1px, 1px, 1px, 1px);height: 1px;margin: -1px;overflow: hidden;padding: 0;position: absolute;width: 1px;}#sk-container-id-1 div.sk-estimator {font-family: monospace;background-color: #f0f8ff;border: 1px dotted black;border-radius: 0.25em;box-sizing: border-box;margin-bottom: 0.5em;}#sk-container-id-1 div.sk-estimator:hover {background-color: #d4ebff;}#sk-container-id-1 div.sk-parallel-item::after {content: \"\";width: 100%;border-bottom: 1px solid gray;flex-grow: 1;}#sk-container-id-1 div.sk-label:hover label.sk-toggleable__label {background-color: #d4ebff;}#sk-container-id-1 div.sk-serial::before {content: \"\";position: absolute;border-left: 1px solid gray;box-sizing: border-box;top: 0;bottom: 0;left: 50%;z-index: 0;}#sk-container-id-1 div.sk-serial {display: flex;flex-direction: column;align-items: center;background-color: white;padding-right: 0.2em;padding-left: 0.2em;position: relative;}#sk-container-id-1 div.sk-item {position: relative;z-index: 1;}#sk-container-id-1 div.sk-parallel {display: flex;align-items: stretch;justify-content: center;background-color: white;position: relative;}#sk-container-id-1 div.sk-item::before, #sk-container-id-1 div.sk-parallel-item::before {content: \"\";position: absolute;border-left: 1px solid gray;box-sizing: border-box;top: 0;bottom: 0;left: 50%;z-index: -1;}#sk-container-id-1 div.sk-parallel-item {display: flex;flex-direction: column;z-index: 1;position: relative;background-color: white;}#sk-container-id-1 div.sk-parallel-item:first-child::after {align-self: flex-end;width: 50%;}#sk-container-id-1 div.sk-parallel-item:last-child::after {align-self: flex-start;width: 50%;}#sk-container-id-1 div.sk-parallel-item:only-child::after {width: 0;}#sk-container-id-1 div.sk-dashed-wrapped {border: 1px dashed gray;margin: 0 0.4em 0.5em 0.4em;box-sizing: border-box;padding-bottom: 0.4em;background-color: white;}#sk-container-id-1 div.sk-label label {font-family: monospace;font-weight: bold;display: inline-block;line-height: 1.2em;}#sk-container-id-1 div.sk-label-container {text-align: center;}#sk-container-id-1 div.sk-container {/* jupyter's `normalize.less` sets `[hidden] { display: none; }` but bootstrap.min.css set `[hidden] { display: none !important; }` so we also need the `!important` here to be able to override the default hidden behavior on the sphinx rendered scikit-learn.org. See: https://github.com/scikit-learn/scikit-learn/issues/21755 */display: inline-block !important;position: relative;}#sk-container-id-1 div.sk-text-repr-fallback {display: none;}</style><div id=\"sk-container-id-1\" class=\"sk-top-container\"><div class=\"sk-text-repr-fallback\"><pre>TfidfVectorizer()</pre><b>In a Jupyter environment, please rerun this cell to show the HTML representation or trust the notebook. <br />On GitHub, the HTML representation is unable to render, please try loading this page with nbviewer.org.</b></div><div class=\"sk-container\" hidden><div class=\"sk-item\"><div class=\"sk-estimator sk-toggleable\"><input class=\"sk-toggleable__control sk-hidden--visually\" id=\"sk-estimator-id-1\" type=\"checkbox\" checked><label for=\"sk-estimator-id-1\" class=\"sk-toggleable__label sk-toggleable__label-arrow\">TfidfVectorizer</label><div class=\"sk-toggleable__content\"><pre>TfidfVectorizer()</pre></div></div></div></div></div>"
      ],
      "text/plain": [
       "TfidfVectorizer()"
      ]
     },
     "execution_count": 62,
     "metadata": {},
     "output_type": "execute_result"
    }
   ],
   "source": [
    "tfidf_vectorizer = TfidfVectorizer()\n",
    "tfidf_vectorizer.fit([text])"
   ]
  },
  {
   "cell_type": "code",
   "execution_count": 66,
   "metadata": {
    "execution": {
     "iopub.execute_input": "2024-03-03T14:41:38.623035Z",
     "iopub.status.busy": "2024-03-03T14:41:38.622060Z",
     "iopub.status.idle": "2024-03-03T14:41:38.684930Z",
     "shell.execute_reply": "2024-03-03T14:41:38.683941Z",
     "shell.execute_reply.started": "2024-03-03T14:41:38.622996Z"
    }
   },
   "outputs": [],
   "source": [
    "tfidf_matrix = tfidf_vectorizer.transform([text])"
   ]
  },
  {
   "cell_type": "code",
   "execution_count": 67,
   "metadata": {
    "execution": {
     "iopub.execute_input": "2024-03-03T14:41:42.338396Z",
     "iopub.status.busy": "2024-03-03T14:41:42.337973Z",
     "iopub.status.idle": "2024-03-03T14:41:42.400968Z",
     "shell.execute_reply": "2024-03-03T14:41:42.399948Z",
     "shell.execute_reply.started": "2024-03-03T14:41:42.338365Z"
    }
   },
   "outputs": [
    {
     "data": {
      "text/plain": [
       "<1x189 sparse matrix of type '<class 'numpy.float64'>'\n",
       "\twith 189 stored elements in Compressed Sparse Row format>"
      ]
     },
     "execution_count": 67,
     "metadata": {},
     "output_type": "execute_result"
    }
   ],
   "source": [
    "tfidf_matrix"
   ]
  }
 ],
 "metadata": {
  "kaggle": {
   "accelerator": "none",
   "dataSources": [
    {
     "datasetId": 4531611,
     "sourceId": 7750872,
     "sourceType": "datasetVersion"
    },
    {
     "datasetId": 4531693,
     "sourceId": 7750966,
     "sourceType": "datasetVersion"
    }
   ],
   "dockerImageVersionId": 30664,
   "isGpuEnabled": false,
   "isInternetEnabled": true,
   "language": "python",
   "sourceType": "notebook"
  },
  "kernelspec": {
   "display_name": "Python 3 (ipykernel)",
   "language": "python",
   "name": "python3"
  },
  "language_info": {
   "codemirror_mode": {
    "name": "ipython",
    "version": 3
   },
   "file_extension": ".py",
   "mimetype": "text/x-python",
   "name": "python",
   "nbconvert_exporter": "python",
   "pygments_lexer": "ipython3",
   "version": "3.11.5"
  }
 },
 "nbformat": 4,
 "nbformat_minor": 4
}
