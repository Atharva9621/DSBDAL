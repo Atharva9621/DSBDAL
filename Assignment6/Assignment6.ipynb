{
 "cells": [
  {
   "cell_type": "markdown",
   "id": "b0425c8f",
   "metadata": {},
   "source": [
    "<div style=\"border: 10px solid pink; border-radius: 30px; position: relative; width: 100%; height: 300px; display: flex; justify-content: center; align-items: center; background-color: pink;\">\n",
    "    <img src=\"https://encrypted-tbn0.gstatic.com/images?q=tbn:ANd9GcSV2RI7E0OhrPGr8UlIOO-_mfcaDY2W8O16oQ&usqp=CAU\" style=\"position: absolute; top: 0; left: 0; width: 100%; height: 100%; z-index: 0; opacity: 1.0; border-radius: 37px\" >\n",
    "    <div style=\"border-radius: 10px; position: relative; z-index: 1; text-align: center; background-color: rgba(50, 50, 50, 0.5); color: pink; display: flex; flex-direction: column; align-items: center; text-align: center; justify-content: center; width: 100%; margin: 10%; padding: 5px \">\n",
    "            <h1 style=\"text-align: center; width: 100%\" >Descriptive Statistics - Iris Dataset</h1>\n",
    "            <h3 style=\"padding-top: 20px\"> Atharva Date </h3>\n",
    "    </div>\n",
    "</div>"
   ]
  },
  {
   "cell_type": "markdown",
   "id": "3e618853",
   "metadata": {},
   "source": [
    "<h1 style=\"text-align: center; color: #FF69B4; background-color: rgba(200, 255, 180, 0.2); padding: 30px; border-style: solid; border-radius: 10px;\"> Imports & Load Data </h1>"
   ]
  },
  {
   "cell_type": "code",
   "execution_count": 7,
   "id": "eff9777c",
   "metadata": {},
   "outputs": [],
   "source": [
    "import numpy as np\n",
    "import pandas as pd\n",
    "from matplotlib import pyplot as plt\n",
    "import seaborn as sns"
   ]
  },
  {
   "cell_type": "code",
   "execution_count": 8,
   "id": "95226452",
   "metadata": {},
   "outputs": [],
   "source": [
    "%load_ext autoreload\n",
    "%autoreload 2\n",
    "%matplotlib inline\n",
    "\n",
    "pd.options.mode.chained_assignment = None"
   ]
  },
  {
   "cell_type": "code",
   "execution_count": 10,
   "id": "8ed60af9",
   "metadata": {},
   "outputs": [],
   "source": [
    "sns.set()\n",
    "sns.set_palette('muted')\n",
    "SNS_CMAP = 'muted'"
   ]
  },
  {
   "cell_type": "code",
   "execution_count": 11,
   "id": "e920c43c",
   "metadata": {},
   "outputs": [],
   "source": [
    "DATA_PATH = 'IRIS.csv'\n",
    "df = pd.read_csv(DATA_PATH)"
   ]
  },
  {
   "cell_type": "code",
   "execution_count": 16,
   "id": "285da9fc",
   "metadata": {},
   "outputs": [
    {
     "data": {
      "text/html": [
       "<style type=\"text/css\">\n",
       "#T_6658f_row0_col0, #T_6658f_row3_col2, #T_6658f_row4_col1 {\n",
       "  background-color: #00441b;\n",
       "  color: #f1f1f1;\n",
       "}\n",
       "#T_6658f_row0_col1 {\n",
       "  background-color: #0b7734;\n",
       "  color: #f1f1f1;\n",
       "}\n",
       "#T_6658f_row0_col2, #T_6658f_row1_col2, #T_6658f_row4_col2 {\n",
       "  background-color: #75c477;\n",
       "  color: #000000;\n",
       "}\n",
       "#T_6658f_row0_col3, #T_6658f_row1_col1, #T_6658f_row1_col3, #T_6658f_row2_col2, #T_6658f_row2_col3, #T_6658f_row3_col0, #T_6658f_row3_col3, #T_6658f_row4_col3 {\n",
       "  background-color: #f7fcf5;\n",
       "  color: #000000;\n",
       "}\n",
       "#T_6658f_row1_col0 {\n",
       "  background-color: #4bb062;\n",
       "  color: #f1f1f1;\n",
       "}\n",
       "#T_6658f_row2_col0 {\n",
       "  background-color: #d3eecd;\n",
       "  color: #000000;\n",
       "}\n",
       "#T_6658f_row2_col1 {\n",
       "  background-color: #aedea7;\n",
       "  color: #000000;\n",
       "}\n",
       "#T_6658f_row3_col1 {\n",
       "  background-color: #dbf1d6;\n",
       "  color: #000000;\n",
       "}\n",
       "#T_6658f_row4_col0 {\n",
       "  background-color: #157f3b;\n",
       "  color: #f1f1f1;\n",
       "}\n",
       "</style>\n",
       "<table id=\"T_6658f_\">\n",
       "  <thead>\n",
       "    <tr>\n",
       "      <th class=\"blank level0\" >&nbsp;</th>\n",
       "      <th class=\"col_heading level0 col0\" >sepal_length</th>\n",
       "      <th class=\"col_heading level0 col1\" >sepal_width</th>\n",
       "      <th class=\"col_heading level0 col2\" >petal_length</th>\n",
       "      <th class=\"col_heading level0 col3\" >petal_width</th>\n",
       "      <th class=\"col_heading level0 col4\" >species</th>\n",
       "    </tr>\n",
       "  </thead>\n",
       "  <tbody>\n",
       "    <tr>\n",
       "      <th id=\"T_6658f_level0_row0\" class=\"row_heading level0 row0\" >0</th>\n",
       "      <td id=\"T_6658f_row0_col0\" class=\"data row0 col0\" >5.100000</td>\n",
       "      <td id=\"T_6658f_row0_col1\" class=\"data row0 col1\" >3.500000</td>\n",
       "      <td id=\"T_6658f_row0_col2\" class=\"data row0 col2\" >1.400000</td>\n",
       "      <td id=\"T_6658f_row0_col3\" class=\"data row0 col3\" >0.200000</td>\n",
       "      <td id=\"T_6658f_row0_col4\" class=\"data row0 col4\" >Iris-setosa</td>\n",
       "    </tr>\n",
       "    <tr>\n",
       "      <th id=\"T_6658f_level0_row1\" class=\"row_heading level0 row1\" >1</th>\n",
       "      <td id=\"T_6658f_row1_col0\" class=\"data row1 col0\" >4.900000</td>\n",
       "      <td id=\"T_6658f_row1_col1\" class=\"data row1 col1\" >3.000000</td>\n",
       "      <td id=\"T_6658f_row1_col2\" class=\"data row1 col2\" >1.400000</td>\n",
       "      <td id=\"T_6658f_row1_col3\" class=\"data row1 col3\" >0.200000</td>\n",
       "      <td id=\"T_6658f_row1_col4\" class=\"data row1 col4\" >Iris-setosa</td>\n",
       "    </tr>\n",
       "    <tr>\n",
       "      <th id=\"T_6658f_level0_row2\" class=\"row_heading level0 row2\" >2</th>\n",
       "      <td id=\"T_6658f_row2_col0\" class=\"data row2 col0\" >4.700000</td>\n",
       "      <td id=\"T_6658f_row2_col1\" class=\"data row2 col1\" >3.200000</td>\n",
       "      <td id=\"T_6658f_row2_col2\" class=\"data row2 col2\" >1.300000</td>\n",
       "      <td id=\"T_6658f_row2_col3\" class=\"data row2 col3\" >0.200000</td>\n",
       "      <td id=\"T_6658f_row2_col4\" class=\"data row2 col4\" >Iris-setosa</td>\n",
       "    </tr>\n",
       "    <tr>\n",
       "      <th id=\"T_6658f_level0_row3\" class=\"row_heading level0 row3\" >3</th>\n",
       "      <td id=\"T_6658f_row3_col0\" class=\"data row3 col0\" >4.600000</td>\n",
       "      <td id=\"T_6658f_row3_col1\" class=\"data row3 col1\" >3.100000</td>\n",
       "      <td id=\"T_6658f_row3_col2\" class=\"data row3 col2\" >1.500000</td>\n",
       "      <td id=\"T_6658f_row3_col3\" class=\"data row3 col3\" >0.200000</td>\n",
       "      <td id=\"T_6658f_row3_col4\" class=\"data row3 col4\" >Iris-setosa</td>\n",
       "    </tr>\n",
       "    <tr>\n",
       "      <th id=\"T_6658f_level0_row4\" class=\"row_heading level0 row4\" >4</th>\n",
       "      <td id=\"T_6658f_row4_col0\" class=\"data row4 col0\" >5.000000</td>\n",
       "      <td id=\"T_6658f_row4_col1\" class=\"data row4 col1\" >3.600000</td>\n",
       "      <td id=\"T_6658f_row4_col2\" class=\"data row4 col2\" >1.400000</td>\n",
       "      <td id=\"T_6658f_row4_col3\" class=\"data row4 col3\" >0.200000</td>\n",
       "      <td id=\"T_6658f_row4_col4\" class=\"data row4 col4\" >Iris-setosa</td>\n",
       "    </tr>\n",
       "  </tbody>\n",
       "</table>\n"
      ],
      "text/plain": [
       "<pandas.io.formats.style.Styler at 0x240793309c8>"
      ]
     },
     "execution_count": 16,
     "metadata": {},
     "output_type": "execute_result"
    }
   ],
   "source": [
    "df.head().style.background_gradient(cmap='Greens')"
   ]
  },
  {
   "cell_type": "code",
   "execution_count": 17,
   "id": "7c132ba3",
   "metadata": {},
   "outputs": [
    {
     "data": {
      "text/html": [
       "<style type=\"text/css\">\n",
       "#T_b2fdd_row0_col0, #T_b2fdd_row0_col2, #T_b2fdd_row0_col3, #T_b2fdd_row0_col4, #T_b2fdd_row0_col5, #T_b2fdd_row0_col6, #T_b2fdd_row2_col1 {\n",
       "  background-color: #023858;\n",
       "  color: #f1f1f1;\n",
       "}\n",
       "#T_b2fdd_row0_col1 {\n",
       "  background-color: #c1cae2;\n",
       "  color: #000000;\n",
       "}\n",
       "#T_b2fdd_row1_col0 {\n",
       "  background-color: #9cb9d9;\n",
       "  color: #000000;\n",
       "}\n",
       "#T_b2fdd_row1_col1, #T_b2fdd_row3_col0, #T_b2fdd_row3_col2, #T_b2fdd_row3_col3, #T_b2fdd_row3_col4, #T_b2fdd_row3_col5, #T_b2fdd_row3_col6 {\n",
       "  background-color: #fff7fb;\n",
       "  color: #000000;\n",
       "}\n",
       "#T_b2fdd_row1_col2 {\n",
       "  background-color: #88b1d4;\n",
       "  color: #000000;\n",
       "}\n",
       "#T_b2fdd_row1_col3 {\n",
       "  background-color: #69a5cc;\n",
       "  color: #f1f1f1;\n",
       "}\n",
       "#T_b2fdd_row1_col4 {\n",
       "  background-color: #a5bddb;\n",
       "  color: #000000;\n",
       "}\n",
       "#T_b2fdd_row1_col5 {\n",
       "  background-color: #b7c5df;\n",
       "  color: #000000;\n",
       "}\n",
       "#T_b2fdd_row1_col6 {\n",
       "  background-color: #adc1dd;\n",
       "  color: #000000;\n",
       "}\n",
       "#T_b2fdd_row2_col0 {\n",
       "  background-color: #5a9ec9;\n",
       "  color: #f1f1f1;\n",
       "}\n",
       "#T_b2fdd_row2_col2 {\n",
       "  background-color: #d9d8ea;\n",
       "  color: #000000;\n",
       "}\n",
       "#T_b2fdd_row2_col3 {\n",
       "  background-color: #c9cee4;\n",
       "  color: #000000;\n",
       "}\n",
       "#T_b2fdd_row2_col4 {\n",
       "  background-color: #2182b9;\n",
       "  color: #f1f1f1;\n",
       "}\n",
       "#T_b2fdd_row2_col5 {\n",
       "  background-color: #1278b4;\n",
       "  color: #f1f1f1;\n",
       "}\n",
       "#T_b2fdd_row2_col6 {\n",
       "  background-color: #04649e;\n",
       "  color: #f1f1f1;\n",
       "}\n",
       "#T_b2fdd_row3_col1 {\n",
       "  background-color: #d1d2e6;\n",
       "  color: #000000;\n",
       "}\n",
       "</style>\n",
       "<table id=\"T_b2fdd_\">\n",
       "  <thead>\n",
       "    <tr>\n",
       "      <th class=\"blank level0\" >&nbsp;</th>\n",
       "      <th class=\"col_heading level0 col0\" >mean</th>\n",
       "      <th class=\"col_heading level0 col1\" >std</th>\n",
       "      <th class=\"col_heading level0 col2\" >min</th>\n",
       "      <th class=\"col_heading level0 col3\" >25%</th>\n",
       "      <th class=\"col_heading level0 col4\" >50%</th>\n",
       "      <th class=\"col_heading level0 col5\" >75%</th>\n",
       "      <th class=\"col_heading level0 col6\" >max</th>\n",
       "    </tr>\n",
       "  </thead>\n",
       "  <tbody>\n",
       "    <tr>\n",
       "      <th id=\"T_b2fdd_level0_row0\" class=\"row_heading level0 row0\" >sepal_length</th>\n",
       "      <td id=\"T_b2fdd_row0_col0\" class=\"data row0 col0\" >5.843333</td>\n",
       "      <td id=\"T_b2fdd_row0_col1\" class=\"data row0 col1\" >0.828066</td>\n",
       "      <td id=\"T_b2fdd_row0_col2\" class=\"data row0 col2\" >4.300000</td>\n",
       "      <td id=\"T_b2fdd_row0_col3\" class=\"data row0 col3\" >5.100000</td>\n",
       "      <td id=\"T_b2fdd_row0_col4\" class=\"data row0 col4\" >5.800000</td>\n",
       "      <td id=\"T_b2fdd_row0_col5\" class=\"data row0 col5\" >6.400000</td>\n",
       "      <td id=\"T_b2fdd_row0_col6\" class=\"data row0 col6\" >7.900000</td>\n",
       "    </tr>\n",
       "    <tr>\n",
       "      <th id=\"T_b2fdd_level0_row1\" class=\"row_heading level0 row1\" >sepal_width</th>\n",
       "      <td id=\"T_b2fdd_row1_col0\" class=\"data row1 col0\" >3.054000</td>\n",
       "      <td id=\"T_b2fdd_row1_col1\" class=\"data row1 col1\" >0.433594</td>\n",
       "      <td id=\"T_b2fdd_row1_col2\" class=\"data row1 col2\" >2.000000</td>\n",
       "      <td id=\"T_b2fdd_row1_col3\" class=\"data row1 col3\" >2.800000</td>\n",
       "      <td id=\"T_b2fdd_row1_col4\" class=\"data row1 col4\" >3.000000</td>\n",
       "      <td id=\"T_b2fdd_row1_col5\" class=\"data row1 col5\" >3.300000</td>\n",
       "      <td id=\"T_b2fdd_row1_col6\" class=\"data row1 col6\" >4.400000</td>\n",
       "    </tr>\n",
       "    <tr>\n",
       "      <th id=\"T_b2fdd_level0_row2\" class=\"row_heading level0 row2\" >petal_length</th>\n",
       "      <td id=\"T_b2fdd_row2_col0\" class=\"data row2 col0\" >3.758667</td>\n",
       "      <td id=\"T_b2fdd_row2_col1\" class=\"data row2 col1\" >1.764420</td>\n",
       "      <td id=\"T_b2fdd_row2_col2\" class=\"data row2 col2\" >1.000000</td>\n",
       "      <td id=\"T_b2fdd_row2_col3\" class=\"data row2 col3\" >1.600000</td>\n",
       "      <td id=\"T_b2fdd_row2_col4\" class=\"data row2 col4\" >4.350000</td>\n",
       "      <td id=\"T_b2fdd_row2_col5\" class=\"data row2 col5\" >5.100000</td>\n",
       "      <td id=\"T_b2fdd_row2_col6\" class=\"data row2 col6\" >6.900000</td>\n",
       "    </tr>\n",
       "    <tr>\n",
       "      <th id=\"T_b2fdd_level0_row3\" class=\"row_heading level0 row3\" >petal_width</th>\n",
       "      <td id=\"T_b2fdd_row3_col0\" class=\"data row3 col0\" >1.198667</td>\n",
       "      <td id=\"T_b2fdd_row3_col1\" class=\"data row3 col1\" >0.763161</td>\n",
       "      <td id=\"T_b2fdd_row3_col2\" class=\"data row3 col2\" >0.100000</td>\n",
       "      <td id=\"T_b2fdd_row3_col3\" class=\"data row3 col3\" >0.300000</td>\n",
       "      <td id=\"T_b2fdd_row3_col4\" class=\"data row3 col4\" >1.300000</td>\n",
       "      <td id=\"T_b2fdd_row3_col5\" class=\"data row3 col5\" >1.800000</td>\n",
       "      <td id=\"T_b2fdd_row3_col6\" class=\"data row3 col6\" >2.500000</td>\n",
       "    </tr>\n",
       "  </tbody>\n",
       "</table>\n"
      ],
      "text/plain": [
       "<pandas.io.formats.style.Styler at 0x24079314688>"
      ]
     },
     "execution_count": 17,
     "metadata": {},
     "output_type": "execute_result"
    }
   ],
   "source": [
    "df.describe()[1:].T.style.background_gradient()"
   ]
  },
  {
   "cell_type": "markdown",
   "id": "36fa847c",
   "metadata": {},
   "source": [
    "<h1 style=\"text-align: center; color: #FF69B4; background-color: rgba(200, 255, 180, 0.2); padding: 30px; border-style: solid; border-radius: 10px;\"> EDA </h1>"
   ]
  },
  {
   "cell_type": "code",
   "execution_count": 19,
   "id": "0e22d2f3",
   "metadata": {},
   "outputs": [
    {
     "data": {
      "image/png": "[encoded data removed]",
      "text/plain": [
       "<Figure size 640x480 with 1 Axes>"
      ]
     },
     "metadata": {},
     "output_type": "display_data"
    }
   ],
   "source": [
    "sns.boxplot(df)\n",
    "plt.show()"
   ]
  },
  {
   "cell_type": "code",
   "execution_count": 22,
   "id": "04dc4313",
   "metadata": {},
   "outputs": [
    {
     "data": {
      "text/plain": [
       "<AxesSubplot:>"
      ]
     },
     "execution_count": 22,
     "metadata": {},
     "output_type": "execute_result"
    },
    {
     "data": {
      "image/png": "[encoded data removed]",
      "text/plain": [
       "<Figure size 640x480 with 2 Axes>"
      ]
     },
     "metadata": {},
     "output_type": "display_data"
    }
   ],
   "source": [
    "numerics = ['int16', 'int32', 'int64', 'float16', 'float32', 'float64']\n",
    "sns.heatmap(df.select_dtypes(include=numerics).corr(), annot=True, annot_kws={'fontsize':7}, fmt='.1g', vmin=-1, vmax=1, center= 0)"
   ]
  },
  {
   "cell_type": "code",
   "execution_count": null,
   "id": "482795e7",
   "metadata": {},
   "outputs": [],
   "source": []
  }
 ],
 "metadata": {
  "kernelspec": {
   "display_name": "Python (myenv)",
   "language": "python",
   "name": "myenv"
  },
  "language_info": {
   "codemirror_mode": {
    "name": "ipython",
    "version": 3
   },
   "file_extension": ".py",
   "mimetype": "text/x-python",
   "name": "python",
   "nbconvert_exporter": "python",
   "pygments_lexer": "ipython3",
   "version": "3.7.16"
  }
 },
 "nbformat": 4,
 "nbformat_minor": 5
}
